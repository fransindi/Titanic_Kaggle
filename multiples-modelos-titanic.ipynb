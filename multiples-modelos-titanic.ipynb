{
 "cells": [
  {
   "cell_type": "code",
   "execution_count": 1,
   "id": "4ed70f58",
   "metadata": {
    "_cell_guid": "b1076dfc-b9ad-4769-8c92-a6c4dae69d19",
    "_uuid": "8f2839f25d086af736a60e9eeb907d3b93b6e0e5",
    "execution": {
     "iopub.execute_input": "2023-11-14T15:47:35.169351Z",
     "iopub.status.busy": "2023-11-14T15:47:35.168962Z",
     "iopub.status.idle": "2023-11-14T15:47:35.539698Z",
     "shell.execute_reply": "2023-11-14T15:47:35.538540Z"
    },
    "papermill": {
     "duration": 0.38751,
     "end_time": "2023-11-14T15:47:35.544036",
     "exception": false,
     "start_time": "2023-11-14T15:47:35.156526",
     "status": "completed"
    },
    "tags": []
   },
   "outputs": [
    {
     "name": "stdout",
     "output_type": "stream",
     "text": [
      "/kaggle/input/titanic/train.csv\n",
      "/kaggle/input/titanic/test.csv\n",
      "/kaggle/input/titanic/gender_submission.csv\n"
     ]
    }
   ],
   "source": [
    "# This Python 3 environment comes with many helpful analytics libraries installed\n",
    "# It is defined by the kaggle/python Docker image: https://github.com/kaggle/docker-python\n",
    "# For example, here's several helpful packages to load\n",
    "\n",
    "import numpy as np # linear algebra\n",
    "import pandas as pd # data processing, CSV file I/O (e.g. pd.read_csv)\n",
    "\n",
    "\n",
    "\n",
    "# Input data files are available in the read-only \"../input/\" directory\n",
    "# For example, running this (by clicking run or pressing Shift+Enter) will list all files under the input directory\n",
    "\n",
    "import os\n",
    "for dirname, _, filenames in os.walk('/kaggle/input'):\n",
    "    for filename in filenames:\n",
    "        print(os.path.join(dirname, filename))\n",
    "\n",
    "# You can write up to 20GB to the current directory (/kaggle/working/) that gets preserved as output when you create a version using \"Save & Run All\" \n",
    "# You can also write temporary files to /kaggle/temp/, but they won't be saved outside of the current session"
   ]
  },
  {
   "cell_type": "code",
   "execution_count": 2,
   "id": "2390558f",
   "metadata": {
    "execution": {
     "iopub.execute_input": "2023-11-14T15:47:35.567243Z",
     "iopub.status.busy": "2023-11-14T15:47:35.566257Z",
     "iopub.status.idle": "2023-11-14T15:47:35.602224Z",
     "shell.execute_reply": "2023-11-14T15:47:35.601438Z"
    },
    "papermill": {
     "duration": 0.049938,
     "end_time": "2023-11-14T15:47:35.604558",
     "exception": false,
     "start_time": "2023-11-14T15:47:35.554620",
     "status": "completed"
    },
    "tags": []
   },
   "outputs": [],
   "source": [
    "train = pd.read_csv('/kaggle/input/titanic/train.csv')\n",
    "test = pd.read_csv('/kaggle/input/titanic/test.csv')"
   ]
  },
  {
   "cell_type": "code",
   "execution_count": 3,
   "id": "8c0065e3",
   "metadata": {
    "execution": {
     "iopub.execute_input": "2023-11-14T15:47:35.626991Z",
     "iopub.status.busy": "2023-11-14T15:47:35.625958Z",
     "iopub.status.idle": "2023-11-14T15:47:35.654874Z",
     "shell.execute_reply": "2023-11-14T15:47:35.653751Z"
    },
    "papermill": {
     "duration": 0.042723,
     "end_time": "2023-11-14T15:47:35.657437",
     "exception": false,
     "start_time": "2023-11-14T15:47:35.614714",
     "status": "completed"
    },
    "tags": []
   },
   "outputs": [
    {
     "data": {
      "text/html": [
       "<div>\n",
       "<style scoped>\n",
       "    .dataframe tbody tr th:only-of-type {\n",
       "        vertical-align: middle;\n",
       "    }\n",
       "\n",
       "    .dataframe tbody tr th {\n",
       "        vertical-align: top;\n",
       "    }\n",
       "\n",
       "    .dataframe thead th {\n",
       "        text-align: right;\n",
       "    }\n",
       "</style>\n",
       "<table border=\"1\" class=\"dataframe\">\n",
       "  <thead>\n",
       "    <tr style=\"text-align: right;\">\n",
       "      <th></th>\n",
       "      <th>PassengerId</th>\n",
       "      <th>Survived</th>\n",
       "      <th>Pclass</th>\n",
       "      <th>Name</th>\n",
       "      <th>Sex</th>\n",
       "      <th>Age</th>\n",
       "      <th>SibSp</th>\n",
       "      <th>Parch</th>\n",
       "      <th>Ticket</th>\n",
       "      <th>Fare</th>\n",
       "      <th>Cabin</th>\n",
       "      <th>Embarked</th>\n",
       "    </tr>\n",
       "  </thead>\n",
       "  <tbody>\n",
       "    <tr>\n",
       "      <th>0</th>\n",
       "      <td>1</td>\n",
       "      <td>0</td>\n",
       "      <td>3</td>\n",
       "      <td>Braund, Mr. Owen Harris</td>\n",
       "      <td>male</td>\n",
       "      <td>22.0</td>\n",
       "      <td>1</td>\n",
       "      <td>0</td>\n",
       "      <td>A/5 21171</td>\n",
       "      <td>7.2500</td>\n",
       "      <td>NaN</td>\n",
       "      <td>S</td>\n",
       "    </tr>\n",
       "    <tr>\n",
       "      <th>1</th>\n",
       "      <td>2</td>\n",
       "      <td>1</td>\n",
       "      <td>1</td>\n",
       "      <td>Cumings, Mrs. John Bradley (Florence Briggs Th...</td>\n",
       "      <td>female</td>\n",
       "      <td>38.0</td>\n",
       "      <td>1</td>\n",
       "      <td>0</td>\n",
       "      <td>PC 17599</td>\n",
       "      <td>71.2833</td>\n",
       "      <td>C85</td>\n",
       "      <td>C</td>\n",
       "    </tr>\n",
       "    <tr>\n",
       "      <th>2</th>\n",
       "      <td>3</td>\n",
       "      <td>1</td>\n",
       "      <td>3</td>\n",
       "      <td>Heikkinen, Miss. Laina</td>\n",
       "      <td>female</td>\n",
       "      <td>26.0</td>\n",
       "      <td>0</td>\n",
       "      <td>0</td>\n",
       "      <td>STON/O2. 3101282</td>\n",
       "      <td>7.9250</td>\n",
       "      <td>NaN</td>\n",
       "      <td>S</td>\n",
       "    </tr>\n",
       "    <tr>\n",
       "      <th>3</th>\n",
       "      <td>4</td>\n",
       "      <td>1</td>\n",
       "      <td>1</td>\n",
       "      <td>Futrelle, Mrs. Jacques Heath (Lily May Peel)</td>\n",
       "      <td>female</td>\n",
       "      <td>35.0</td>\n",
       "      <td>1</td>\n",
       "      <td>0</td>\n",
       "      <td>113803</td>\n",
       "      <td>53.1000</td>\n",
       "      <td>C123</td>\n",
       "      <td>S</td>\n",
       "    </tr>\n",
       "    <tr>\n",
       "      <th>4</th>\n",
       "      <td>5</td>\n",
       "      <td>0</td>\n",
       "      <td>3</td>\n",
       "      <td>Allen, Mr. William Henry</td>\n",
       "      <td>male</td>\n",
       "      <td>35.0</td>\n",
       "      <td>0</td>\n",
       "      <td>0</td>\n",
       "      <td>373450</td>\n",
       "      <td>8.0500</td>\n",
       "      <td>NaN</td>\n",
       "      <td>S</td>\n",
       "    </tr>\n",
       "  </tbody>\n",
       "</table>\n",
       "</div>"
      ],
      "text/plain": [
       "   PassengerId  Survived  Pclass  \\\n",
       "0            1         0       3   \n",
       "1            2         1       1   \n",
       "2            3         1       3   \n",
       "3            4         1       1   \n",
       "4            5         0       3   \n",
       "\n",
       "                                                Name     Sex   Age  SibSp  \\\n",
       "0                            Braund, Mr. Owen Harris    male  22.0      1   \n",
       "1  Cumings, Mrs. John Bradley (Florence Briggs Th...  female  38.0      1   \n",
       "2                             Heikkinen, Miss. Laina  female  26.0      0   \n",
       "3       Futrelle, Mrs. Jacques Heath (Lily May Peel)  female  35.0      1   \n",
       "4                           Allen, Mr. William Henry    male  35.0      0   \n",
       "\n",
       "   Parch            Ticket     Fare Cabin Embarked  \n",
       "0      0         A/5 21171   7.2500   NaN        S  \n",
       "1      0          PC 17599  71.2833   C85        C  \n",
       "2      0  STON/O2. 3101282   7.9250   NaN        S  \n",
       "3      0            113803  53.1000  C123        S  \n",
       "4      0            373450   8.0500   NaN        S  "
      ]
     },
     "execution_count": 3,
     "metadata": {},
     "output_type": "execute_result"
    }
   ],
   "source": [
    "train.head()"
   ]
  },
  {
   "cell_type": "code",
   "execution_count": 4,
   "id": "db0bfaff",
   "metadata": {
    "execution": {
     "iopub.execute_input": "2023-11-14T15:47:35.679756Z",
     "iopub.status.busy": "2023-11-14T15:47:35.679343Z",
     "iopub.status.idle": "2023-11-14T15:47:35.706950Z",
     "shell.execute_reply": "2023-11-14T15:47:35.705658Z"
    },
    "papermill": {
     "duration": 0.041356,
     "end_time": "2023-11-14T15:47:35.709195",
     "exception": false,
     "start_time": "2023-11-14T15:47:35.667839",
     "status": "completed"
    },
    "tags": []
   },
   "outputs": [
    {
     "name": "stdout",
     "output_type": "stream",
     "text": [
      "<class 'pandas.core.frame.DataFrame'>\n",
      "RangeIndex: 891 entries, 0 to 890\n",
      "Data columns (total 12 columns):\n",
      " #   Column       Non-Null Count  Dtype  \n",
      "---  ------       --------------  -----  \n",
      " 0   PassengerId  891 non-null    int64  \n",
      " 1   Survived     891 non-null    int64  \n",
      " 2   Pclass       891 non-null    int64  \n",
      " 3   Name         891 non-null    object \n",
      " 4   Sex          891 non-null    object \n",
      " 5   Age          714 non-null    float64\n",
      " 6   SibSp        891 non-null    int64  \n",
      " 7   Parch        891 non-null    int64  \n",
      " 8   Ticket       891 non-null    object \n",
      " 9   Fare         891 non-null    float64\n",
      " 10  Cabin        204 non-null    object \n",
      " 11  Embarked     889 non-null    object \n",
      "dtypes: float64(2), int64(5), object(5)\n",
      "memory usage: 83.7+ KB\n"
     ]
    }
   ],
   "source": [
    "train.info()"
   ]
  },
  {
   "cell_type": "code",
   "execution_count": 5,
   "id": "8b1495bf",
   "metadata": {
    "execution": {
     "iopub.execute_input": "2023-11-14T15:47:35.732013Z",
     "iopub.status.busy": "2023-11-14T15:47:35.731428Z",
     "iopub.status.idle": "2023-11-14T15:47:35.760628Z",
     "shell.execute_reply": "2023-11-14T15:47:35.759900Z"
    },
    "papermill": {
     "duration": 0.042906,
     "end_time": "2023-11-14T15:47:35.762601",
     "exception": false,
     "start_time": "2023-11-14T15:47:35.719695",
     "status": "completed"
    },
    "tags": []
   },
   "outputs": [
    {
     "data": {
      "text/html": [
       "<div>\n",
       "<style scoped>\n",
       "    .dataframe tbody tr th:only-of-type {\n",
       "        vertical-align: middle;\n",
       "    }\n",
       "\n",
       "    .dataframe tbody tr th {\n",
       "        vertical-align: top;\n",
       "    }\n",
       "\n",
       "    .dataframe thead th {\n",
       "        text-align: right;\n",
       "    }\n",
       "</style>\n",
       "<table border=\"1\" class=\"dataframe\">\n",
       "  <thead>\n",
       "    <tr style=\"text-align: right;\">\n",
       "      <th></th>\n",
       "      <th>PassengerId</th>\n",
       "      <th>Survived</th>\n",
       "      <th>Pclass</th>\n",
       "      <th>Age</th>\n",
       "      <th>SibSp</th>\n",
       "      <th>Parch</th>\n",
       "      <th>Fare</th>\n",
       "    </tr>\n",
       "  </thead>\n",
       "  <tbody>\n",
       "    <tr>\n",
       "      <th>count</th>\n",
       "      <td>891.000000</td>\n",
       "      <td>891.000000</td>\n",
       "      <td>891.000000</td>\n",
       "      <td>714.000000</td>\n",
       "      <td>891.000000</td>\n",
       "      <td>891.000000</td>\n",
       "      <td>891.000000</td>\n",
       "    </tr>\n",
       "    <tr>\n",
       "      <th>mean</th>\n",
       "      <td>446.000000</td>\n",
       "      <td>0.383838</td>\n",
       "      <td>2.308642</td>\n",
       "      <td>29.699118</td>\n",
       "      <td>0.523008</td>\n",
       "      <td>0.381594</td>\n",
       "      <td>32.204208</td>\n",
       "    </tr>\n",
       "    <tr>\n",
       "      <th>std</th>\n",
       "      <td>257.353842</td>\n",
       "      <td>0.486592</td>\n",
       "      <td>0.836071</td>\n",
       "      <td>14.526497</td>\n",
       "      <td>1.102743</td>\n",
       "      <td>0.806057</td>\n",
       "      <td>49.693429</td>\n",
       "    </tr>\n",
       "    <tr>\n",
       "      <th>min</th>\n",
       "      <td>1.000000</td>\n",
       "      <td>0.000000</td>\n",
       "      <td>1.000000</td>\n",
       "      <td>0.420000</td>\n",
       "      <td>0.000000</td>\n",
       "      <td>0.000000</td>\n",
       "      <td>0.000000</td>\n",
       "    </tr>\n",
       "    <tr>\n",
       "      <th>25%</th>\n",
       "      <td>223.500000</td>\n",
       "      <td>0.000000</td>\n",
       "      <td>2.000000</td>\n",
       "      <td>20.125000</td>\n",
       "      <td>0.000000</td>\n",
       "      <td>0.000000</td>\n",
       "      <td>7.910400</td>\n",
       "    </tr>\n",
       "    <tr>\n",
       "      <th>50%</th>\n",
       "      <td>446.000000</td>\n",
       "      <td>0.000000</td>\n",
       "      <td>3.000000</td>\n",
       "      <td>28.000000</td>\n",
       "      <td>0.000000</td>\n",
       "      <td>0.000000</td>\n",
       "      <td>14.454200</td>\n",
       "    </tr>\n",
       "    <tr>\n",
       "      <th>75%</th>\n",
       "      <td>668.500000</td>\n",
       "      <td>1.000000</td>\n",
       "      <td>3.000000</td>\n",
       "      <td>38.000000</td>\n",
       "      <td>1.000000</td>\n",
       "      <td>0.000000</td>\n",
       "      <td>31.000000</td>\n",
       "    </tr>\n",
       "    <tr>\n",
       "      <th>max</th>\n",
       "      <td>891.000000</td>\n",
       "      <td>1.000000</td>\n",
       "      <td>3.000000</td>\n",
       "      <td>80.000000</td>\n",
       "      <td>8.000000</td>\n",
       "      <td>6.000000</td>\n",
       "      <td>512.329200</td>\n",
       "    </tr>\n",
       "  </tbody>\n",
       "</table>\n",
       "</div>"
      ],
      "text/plain": [
       "       PassengerId    Survived      Pclass         Age       SibSp  \\\n",
       "count   891.000000  891.000000  891.000000  714.000000  891.000000   \n",
       "mean    446.000000    0.383838    2.308642   29.699118    0.523008   \n",
       "std     257.353842    0.486592    0.836071   14.526497    1.102743   \n",
       "min       1.000000    0.000000    1.000000    0.420000    0.000000   \n",
       "25%     223.500000    0.000000    2.000000   20.125000    0.000000   \n",
       "50%     446.000000    0.000000    3.000000   28.000000    0.000000   \n",
       "75%     668.500000    1.000000    3.000000   38.000000    1.000000   \n",
       "max     891.000000    1.000000    3.000000   80.000000    8.000000   \n",
       "\n",
       "            Parch        Fare  \n",
       "count  891.000000  891.000000  \n",
       "mean     0.381594   32.204208  \n",
       "std      0.806057   49.693429  \n",
       "min      0.000000    0.000000  \n",
       "25%      0.000000    7.910400  \n",
       "50%      0.000000   14.454200  \n",
       "75%      0.000000   31.000000  \n",
       "max      6.000000  512.329200  "
      ]
     },
     "execution_count": 5,
     "metadata": {},
     "output_type": "execute_result"
    }
   ],
   "source": [
    "train.describe()"
   ]
  },
  {
   "cell_type": "markdown",
   "id": "5f1aba9e",
   "metadata": {
    "papermill": {
     "duration": 0.010177,
     "end_time": "2023-11-14T15:47:35.783872",
     "exception": false,
     "start_time": "2023-11-14T15:47:35.773695",
     "status": "completed"
    },
    "tags": []
   },
   "source": [
    "## Manejo de faltantes\n",
    "Podemos observar que hay 3 columnas con faltantes, 'edad', 'Cabin' y 'embarked'. veamos y tratemos estas columnas."
   ]
  },
  {
   "cell_type": "code",
   "execution_count": 6,
   "id": "f65ef210",
   "metadata": {
    "execution": {
     "iopub.execute_input": "2023-11-14T15:47:35.806494Z",
     "iopub.status.busy": "2023-11-14T15:47:35.806106Z",
     "iopub.status.idle": "2023-11-14T15:47:35.812663Z",
     "shell.execute_reply": "2023-11-14T15:47:35.811753Z"
    },
    "papermill": {
     "duration": 0.020492,
     "end_time": "2023-11-14T15:47:35.814774",
     "exception": false,
     "start_time": "2023-11-14T15:47:35.794282",
     "status": "completed"
    },
    "tags": []
   },
   "outputs": [
    {
     "data": {
      "text/plain": [
       "array([nan, 'C85', 'C123', 'E46', 'G6', 'C103', 'D56', 'A6',\n",
       "       'C23 C25 C27', 'B78', 'D33', 'B30', 'C52', 'B28', 'C83', 'F33',\n",
       "       'F G73', 'E31', 'A5', 'D10 D12', 'D26', 'C110', 'B58 B60', 'E101',\n",
       "       'F E69', 'D47', 'B86', 'F2', 'C2', 'E33', 'B19', 'A7', 'C49', 'F4',\n",
       "       'A32', 'B4', 'B80', 'A31', 'D36', 'D15', 'C93', 'C78', 'D35',\n",
       "       'C87', 'B77', 'E67', 'B94', 'C125', 'C99', 'C118', 'D7', 'A19',\n",
       "       'B49', 'D', 'C22 C26', 'C106', 'C65', 'E36', 'C54',\n",
       "       'B57 B59 B63 B66', 'C7', 'E34', 'C32', 'B18', 'C124', 'C91', 'E40',\n",
       "       'T', 'C128', 'D37', 'B35', 'E50', 'C82', 'B96 B98', 'E10', 'E44',\n",
       "       'A34', 'C104', 'C111', 'C92', 'E38', 'D21', 'E12', 'E63', 'A14',\n",
       "       'B37', 'C30', 'D20', 'B79', 'E25', 'D46', 'B73', 'C95', 'B38',\n",
       "       'B39', 'B22', 'C86', 'C70', 'A16', 'C101', 'C68', 'A10', 'E68',\n",
       "       'B41', 'A20', 'D19', 'D50', 'D9', 'A23', 'B50', 'A26', 'D48',\n",
       "       'E58', 'C126', 'B71', 'B51 B53 B55', 'D49', 'B5', 'B20', 'F G63',\n",
       "       'C62 C64', 'E24', 'C90', 'C45', 'E8', 'B101', 'D45', 'C46', 'D30',\n",
       "       'E121', 'D11', 'E77', 'F38', 'B3', 'D6', 'B82 B84', 'D17', 'A36',\n",
       "       'B102', 'B69', 'E49', 'C47', 'D28', 'E17', 'A24', 'C50', 'B42',\n",
       "       'C148'], dtype=object)"
      ]
     },
     "execution_count": 6,
     "metadata": {},
     "output_type": "execute_result"
    }
   ],
   "source": [
    "train.Cabin.unique()"
   ]
  },
  {
   "cell_type": "markdown",
   "id": "690571e8",
   "metadata": {
    "papermill": {
     "duration": 0.010449,
     "end_time": "2023-11-14T15:47:35.835912",
     "exception": false,
     "start_time": "2023-11-14T15:47:35.825463",
     "status": "completed"
    },
    "tags": []
   },
   "source": []
  },
  {
   "cell_type": "markdown",
   "id": "6b78ae11",
   "metadata": {
    "papermill": {
     "duration": 0.010319,
     "end_time": "2023-11-14T15:47:35.856940",
     "exception": false,
     "start_time": "2023-11-14T15:47:35.846621",
     "status": "completed"
    },
    "tags": []
   },
   "source": [
    "Observamos que hay demasiados tipos para la columna Cabin, por lo que la eliminaremos."
   ]
  },
  {
   "cell_type": "code",
   "execution_count": 7,
   "id": "f9fa410c",
   "metadata": {
    "execution": {
     "iopub.execute_input": "2023-11-14T15:47:35.880064Z",
     "iopub.status.busy": "2023-11-14T15:47:35.879712Z",
     "iopub.status.idle": "2023-11-14T15:47:35.885985Z",
     "shell.execute_reply": "2023-11-14T15:47:35.884901Z"
    },
    "papermill": {
     "duration": 0.020529,
     "end_time": "2023-11-14T15:47:35.888203",
     "exception": false,
     "start_time": "2023-11-14T15:47:35.867674",
     "status": "completed"
    },
    "tags": []
   },
   "outputs": [],
   "source": [
    "median = train.Age.median()"
   ]
  },
  {
   "cell_type": "markdown",
   "id": "29170d75",
   "metadata": {
    "papermill": {
     "duration": 0.010473,
     "end_time": "2023-11-14T15:47:35.910809",
     "exception": false,
     "start_time": "2023-11-14T15:47:35.900336",
     "status": "completed"
    },
    "tags": []
   },
   "source": [
    "Rellenamos la columna Age, con la mediana."
   ]
  },
  {
   "cell_type": "code",
   "execution_count": 8,
   "id": "3abf1c9c",
   "metadata": {
    "execution": {
     "iopub.execute_input": "2023-11-14T15:47:35.995712Z",
     "iopub.status.busy": "2023-11-14T15:47:35.995021Z",
     "iopub.status.idle": "2023-11-14T15:47:36.001169Z",
     "shell.execute_reply": "2023-11-14T15:47:36.000452Z"
    },
    "papermill": {
     "duration": 0.081526,
     "end_time": "2023-11-14T15:47:36.002991",
     "exception": false,
     "start_time": "2023-11-14T15:47:35.921465",
     "status": "completed"
    },
    "tags": []
   },
   "outputs": [
    {
     "data": {
      "text/plain": [
       "array(['S', 'C', 'Q', nan], dtype=object)"
      ]
     },
     "execution_count": 8,
     "metadata": {},
     "output_type": "execute_result"
    }
   ],
   "source": [
    "train.Embarked.unique()"
   ]
  },
  {
   "cell_type": "markdown",
   "id": "e25bd830",
   "metadata": {
    "papermill": {
     "duration": 0.010701,
     "end_time": "2023-11-14T15:47:36.024644",
     "exception": false,
     "start_time": "2023-11-14T15:47:36.013943",
     "status": "completed"
    },
    "tags": []
   },
   "source": [
    "Rellenamos embarked con el siguiente del dataframe."
   ]
  },
  {
   "cell_type": "code",
   "execution_count": 9,
   "id": "137aea76",
   "metadata": {
    "execution": {
     "iopub.execute_input": "2023-11-14T15:47:36.048408Z",
     "iopub.status.busy": "2023-11-14T15:47:36.047615Z",
     "iopub.status.idle": "2023-11-14T15:47:36.060690Z",
     "shell.execute_reply": "2023-11-14T15:47:36.059245Z"
    },
    "papermill": {
     "duration": 0.027335,
     "end_time": "2023-11-14T15:47:36.062924",
     "exception": false,
     "start_time": "2023-11-14T15:47:36.035589",
     "status": "completed"
    },
    "tags": []
   },
   "outputs": [
    {
     "name": "stdout",
     "output_type": "stream",
     "text": [
      "<class 'pandas.core.frame.DataFrame'>\n",
      "RangeIndex: 891 entries, 0 to 890\n",
      "Data columns (total 12 columns):\n",
      " #   Column       Non-Null Count  Dtype  \n",
      "---  ------       --------------  -----  \n",
      " 0   PassengerId  891 non-null    int64  \n",
      " 1   Survived     891 non-null    int64  \n",
      " 2   Pclass       891 non-null    int64  \n",
      " 3   Name         891 non-null    object \n",
      " 4   Sex          891 non-null    object \n",
      " 5   Age          714 non-null    float64\n",
      " 6   SibSp        891 non-null    int64  \n",
      " 7   Parch        891 non-null    int64  \n",
      " 8   Ticket       891 non-null    object \n",
      " 9   Fare         891 non-null    float64\n",
      " 10  Cabin        204 non-null    object \n",
      " 11  Embarked     889 non-null    object \n",
      "dtypes: float64(2), int64(5), object(5)\n",
      "memory usage: 83.7+ KB\n"
     ]
    }
   ],
   "source": [
    "train.info()"
   ]
  },
  {
   "cell_type": "markdown",
   "id": "843b4137",
   "metadata": {
    "papermill": {
     "duration": 0.01076,
     "end_time": "2023-11-14T15:47:36.084615",
     "exception": false,
     "start_time": "2023-11-14T15:47:36.073855",
     "status": "completed"
    },
    "tags": []
   },
   "source": [
    "Tomemos las columnas tipo Object dentro de un array."
   ]
  },
  {
   "cell_type": "code",
   "execution_count": 10,
   "id": "f9ec0cfd",
   "metadata": {
    "execution": {
     "iopub.execute_input": "2023-11-14T15:47:36.108962Z",
     "iopub.status.busy": "2023-11-14T15:47:36.107907Z",
     "iopub.status.idle": "2023-11-14T15:47:36.116051Z",
     "shell.execute_reply": "2023-11-14T15:47:36.114991Z"
    },
    "papermill": {
     "duration": 0.022488,
     "end_time": "2023-11-14T15:47:36.118141",
     "exception": false,
     "start_time": "2023-11-14T15:47:36.095653",
     "status": "completed"
    },
    "tags": []
   },
   "outputs": [
    {
     "data": {
      "text/plain": [
       "PassengerId      int64\n",
       "Survived         int64\n",
       "Pclass           int64\n",
       "Name            object\n",
       "Sex             object\n",
       "Age            float64\n",
       "SibSp            int64\n",
       "Parch            int64\n",
       "Ticket          object\n",
       "Fare           float64\n",
       "Cabin           object\n",
       "Embarked        object\n",
       "dtype: object"
      ]
     },
     "execution_count": 10,
     "metadata": {},
     "output_type": "execute_result"
    }
   ],
   "source": [
    "train.dtypes"
   ]
  },
  {
   "cell_type": "markdown",
   "id": "c9f673ad",
   "metadata": {
    "papermill": {
     "duration": 0.010931,
     "end_time": "2023-11-14T15:47:36.140220",
     "exception": false,
     "start_time": "2023-11-14T15:47:36.129289",
     "status": "completed"
    },
    "tags": []
   },
   "source": [
    "Tomamos las columnas object pero eliminamos la columna name ya que no es necesaria\n"
   ]
  },
  {
   "cell_type": "code",
   "execution_count": 11,
   "id": "f08fedc4",
   "metadata": {
    "execution": {
     "iopub.execute_input": "2023-11-14T15:47:36.164895Z",
     "iopub.status.busy": "2023-11-14T15:47:36.164005Z",
     "iopub.status.idle": "2023-11-14T15:47:36.174396Z",
     "shell.execute_reply": "2023-11-14T15:47:36.173401Z"
    },
    "papermill": {
     "duration": 0.025349,
     "end_time": "2023-11-14T15:47:36.176884",
     "exception": false,
     "start_time": "2023-11-14T15:47:36.151535",
     "status": "completed"
    },
    "tags": []
   },
   "outputs": [],
   "source": [
    "\n",
    "object_cols = ['Sex','Ticket', 'Embarked']\n",
    "train.drop(['Name'], axis=1, inplace=True)"
   ]
  },
  {
   "cell_type": "markdown",
   "id": "0276ebf1",
   "metadata": {
    "papermill": {
     "duration": 0.011638,
     "end_time": "2023-11-14T15:47:36.200039",
     "exception": false,
     "start_time": "2023-11-14T15:47:36.188401",
     "status": "completed"
    },
    "tags": []
   },
   "source": [
    "Hagamos un mapa de calor para buscar relaciones entre las columnas numericas."
   ]
  },
  {
   "cell_type": "code",
   "execution_count": 12,
   "id": "3fb0af14",
   "metadata": {
    "execution": {
     "iopub.execute_input": "2023-11-14T15:47:36.224142Z",
     "iopub.status.busy": "2023-11-14T15:47:36.223680Z",
     "iopub.status.idle": "2023-11-14T15:47:36.229766Z",
     "shell.execute_reply": "2023-11-14T15:47:36.228700Z"
    },
    "papermill": {
     "duration": 0.02067,
     "end_time": "2023-11-14T15:47:36.232001",
     "exception": false,
     "start_time": "2023-11-14T15:47:36.211331",
     "status": "completed"
    },
    "tags": []
   },
   "outputs": [],
   "source": [
    "train_num = train.drop(['Sex','Ticket','Embarked', 'Cabin'], axis=1)\n"
   ]
  },
  {
   "cell_type": "code",
   "execution_count": 13,
   "id": "2dffd66a",
   "metadata": {
    "execution": {
     "iopub.execute_input": "2023-11-14T15:47:36.257535Z",
     "iopub.status.busy": "2023-11-14T15:47:36.256856Z",
     "iopub.status.idle": "2023-11-14T15:47:38.080684Z",
     "shell.execute_reply": "2023-11-14T15:47:38.079463Z"
    },
    "papermill": {
     "duration": 1.839741,
     "end_time": "2023-11-14T15:47:38.083359",
     "exception": false,
     "start_time": "2023-11-14T15:47:36.243618",
     "status": "completed"
    },
    "tags": []
   },
   "outputs": [
    {
     "data": {
      "text/plain": [
       "<Axes: >"
      ]
     },
     "execution_count": 13,
     "metadata": {},
     "output_type": "execute_result"
    },
    {
     "data": {
      "image/png": "[encoded data removed]",
      "text/plain": [
       "<Figure size 640x480 with 2 Axes>"
      ]
     },
     "metadata": {},
     "output_type": "display_data"
    }
   ],
   "source": [
    "import matplotlib.pyplot as plt\n",
    "import seaborn as sns\n",
    "\n",
    "sns.heatmap(train_num.corr(), square = False, annot=True, fmt= '.2f')"
   ]
  },
  {
   "cell_type": "code",
   "execution_count": 14,
   "id": "be04d4a0",
   "metadata": {
    "execution": {
     "iopub.execute_input": "2023-11-14T15:47:38.109740Z",
     "iopub.status.busy": "2023-11-14T15:47:38.109322Z",
     "iopub.status.idle": "2023-11-14T15:47:38.123505Z",
     "shell.execute_reply": "2023-11-14T15:47:38.122327Z"
    },
    "papermill": {
     "duration": 0.03198,
     "end_time": "2023-11-14T15:47:38.127607",
     "exception": false,
     "start_time": "2023-11-14T15:47:38.095627",
     "status": "completed"
    },
    "tags": []
   },
   "outputs": [
    {
     "data": {
      "text/html": [
       "<div>\n",
       "<style scoped>\n",
       "    .dataframe tbody tr th:only-of-type {\n",
       "        vertical-align: middle;\n",
       "    }\n",
       "\n",
       "    .dataframe tbody tr th {\n",
       "        vertical-align: top;\n",
       "    }\n",
       "\n",
       "    .dataframe thead th {\n",
       "        text-align: right;\n",
       "    }\n",
       "</style>\n",
       "<table border=\"1\" class=\"dataframe\">\n",
       "  <thead>\n",
       "    <tr style=\"text-align: right;\">\n",
       "      <th></th>\n",
       "      <th>Fare</th>\n",
       "      <th>Survived</th>\n",
       "      <th>Pclass</th>\n",
       "    </tr>\n",
       "  </thead>\n",
       "  <tbody>\n",
       "    <tr>\n",
       "      <th>0</th>\n",
       "      <td>7.2500</td>\n",
       "      <td>0</td>\n",
       "      <td>3</td>\n",
       "    </tr>\n",
       "    <tr>\n",
       "      <th>1</th>\n",
       "      <td>71.2833</td>\n",
       "      <td>1</td>\n",
       "      <td>1</td>\n",
       "    </tr>\n",
       "    <tr>\n",
       "      <th>2</th>\n",
       "      <td>7.9250</td>\n",
       "      <td>1</td>\n",
       "      <td>3</td>\n",
       "    </tr>\n",
       "    <tr>\n",
       "      <th>3</th>\n",
       "      <td>53.1000</td>\n",
       "      <td>1</td>\n",
       "      <td>1</td>\n",
       "    </tr>\n",
       "    <tr>\n",
       "      <th>4</th>\n",
       "      <td>8.0500</td>\n",
       "      <td>0</td>\n",
       "      <td>3</td>\n",
       "    </tr>\n",
       "    <tr>\n",
       "      <th>...</th>\n",
       "      <td>...</td>\n",
       "      <td>...</td>\n",
       "      <td>...</td>\n",
       "    </tr>\n",
       "    <tr>\n",
       "      <th>886</th>\n",
       "      <td>13.0000</td>\n",
       "      <td>0</td>\n",
       "      <td>2</td>\n",
       "    </tr>\n",
       "    <tr>\n",
       "      <th>887</th>\n",
       "      <td>30.0000</td>\n",
       "      <td>1</td>\n",
       "      <td>1</td>\n",
       "    </tr>\n",
       "    <tr>\n",
       "      <th>888</th>\n",
       "      <td>23.4500</td>\n",
       "      <td>0</td>\n",
       "      <td>3</td>\n",
       "    </tr>\n",
       "    <tr>\n",
       "      <th>889</th>\n",
       "      <td>30.0000</td>\n",
       "      <td>1</td>\n",
       "      <td>1</td>\n",
       "    </tr>\n",
       "    <tr>\n",
       "      <th>890</th>\n",
       "      <td>7.7500</td>\n",
       "      <td>0</td>\n",
       "      <td>3</td>\n",
       "    </tr>\n",
       "  </tbody>\n",
       "</table>\n",
       "<p>891 rows × 3 columns</p>\n",
       "</div>"
      ],
      "text/plain": [
       "        Fare  Survived  Pclass\n",
       "0     7.2500         0       3\n",
       "1    71.2833         1       1\n",
       "2     7.9250         1       3\n",
       "3    53.1000         1       1\n",
       "4     8.0500         0       3\n",
       "..       ...       ...     ...\n",
       "886  13.0000         0       2\n",
       "887  30.0000         1       1\n",
       "888  23.4500         0       3\n",
       "889  30.0000         1       1\n",
       "890   7.7500         0       3\n",
       "\n",
       "[891 rows x 3 columns]"
      ]
     },
     "execution_count": 14,
     "metadata": {},
     "output_type": "execute_result"
    }
   ],
   "source": [
    "train_num = train_num[['Fare','Survived','Pclass']]\n",
    "train_num"
   ]
  },
  {
   "cell_type": "markdown",
   "id": "76da20e6",
   "metadata": {
    "papermill": {
     "duration": 0.012205,
     "end_time": "2023-11-14T15:47:38.152386",
     "exception": false,
     "start_time": "2023-11-14T15:47:38.140181",
     "status": "completed"
    },
    "tags": []
   },
   "source": []
  },
  {
   "cell_type": "code",
   "execution_count": 15,
   "id": "e890de81",
   "metadata": {
    "execution": {
     "iopub.execute_input": "2023-11-14T15:47:38.184209Z",
     "iopub.status.busy": "2023-11-14T15:47:38.183576Z",
     "iopub.status.idle": "2023-11-14T15:47:38.528013Z",
     "shell.execute_reply": "2023-11-14T15:47:38.527120Z"
    },
    "papermill": {
     "duration": 0.364046,
     "end_time": "2023-11-14T15:47:38.530715",
     "exception": false,
     "start_time": "2023-11-14T15:47:38.166669",
     "status": "completed"
    },
    "tags": []
   },
   "outputs": [
    {
     "data": {
      "image/png": "[encoded data removed]",
      "text/plain": [
       "<Figure size 600x400 with 1 Axes>"
      ]
     },
     "metadata": {},
     "output_type": "display_data"
    },
    {
     "data": {
      "image/png": "[encoded data removed]",
      "text/plain": [
       "<Figure size 600x400 with 1 Axes>"
      ]
     },
     "metadata": {},
     "output_type": "display_data"
    }
   ],
   "source": [
    "figure = plt.figure(figsize=(6,4))\n",
    "sns.boxplot(x=train_num['Pclass'])\n",
    "plt.show()\n",
    "figure = plt.figure(figsize=(6,4))\n",
    "sns.boxplot(x=train_num['Fare'])\n",
    "plt.show()\n",
    "\n"
   ]
  },
  {
   "cell_type": "markdown",
   "id": "0fbb2464",
   "metadata": {
    "papermill": {
     "duration": 0.012745,
     "end_time": "2023-11-14T15:47:38.561706",
     "exception": false,
     "start_time": "2023-11-14T15:47:38.548961",
     "status": "completed"
    },
    "tags": []
   },
   "source": [
    "Podemos observar Outliers en la columna Fare, esto no nos sorprende ya que se debe a la tarifa que pago el pasajero, haciendo evidente que la mejor de las clases debe ser el outlier que vemos mientras que la gran mayoria pago el pasaje estandar."
   ]
  },
  {
   "cell_type": "code",
   "execution_count": 16,
   "id": "cfdda18b",
   "metadata": {
    "execution": {
     "iopub.execute_input": "2023-11-14T15:47:38.589922Z",
     "iopub.status.busy": "2023-11-14T15:47:38.589547Z",
     "iopub.status.idle": "2023-11-14T15:47:39.205565Z",
     "shell.execute_reply": "2023-11-14T15:47:39.204509Z"
    },
    "papermill": {
     "duration": 0.632907,
     "end_time": "2023-11-14T15:47:39.207611",
     "exception": false,
     "start_time": "2023-11-14T15:47:38.574704",
     "status": "completed"
    },
    "tags": []
   },
   "outputs": [
    {
     "data": {
      "image/png": "[encoded data removed]",
      "text/plain": [
       "<Figure size 600x400 with 1 Axes>"
      ]
     },
     "metadata": {},
     "output_type": "display_data"
    },
    {
     "data": {
      "image/png": "[encoded data removed]",
      "text/plain": [
       "<Figure size 600x400 with 1 Axes>"
      ]
     },
     "metadata": {},
     "output_type": "display_data"
    }
   ],
   "source": [
    "figure = plt.figure(figsize=(6,4))\n",
    "sns.histplot(train['Pclass'])\n",
    "plt.show()\n",
    "figure = plt.figure(figsize=(6,4))\n",
    "sns.histplot(train['Fare'])\n",
    "plt.show()\n",
    "\n"
   ]
  },
  {
   "cell_type": "code",
   "execution_count": 17,
   "id": "3557e599",
   "metadata": {
    "execution": {
     "iopub.execute_input": "2023-11-14T15:47:39.236161Z",
     "iopub.status.busy": "2023-11-14T15:47:39.235749Z",
     "iopub.status.idle": "2023-11-14T15:47:39.247348Z",
     "shell.execute_reply": "2023-11-14T15:47:39.246409Z"
    },
    "papermill": {
     "duration": 0.028324,
     "end_time": "2023-11-14T15:47:39.249381",
     "exception": false,
     "start_time": "2023-11-14T15:47:39.221057",
     "status": "completed"
    },
    "tags": []
   },
   "outputs": [
    {
     "data": {
      "text/html": [
       "<div>\n",
       "<style scoped>\n",
       "    .dataframe tbody tr th:only-of-type {\n",
       "        vertical-align: middle;\n",
       "    }\n",
       "\n",
       "    .dataframe tbody tr th {\n",
       "        vertical-align: top;\n",
       "    }\n",
       "\n",
       "    .dataframe thead th {\n",
       "        text-align: right;\n",
       "    }\n",
       "</style>\n",
       "<table border=\"1\" class=\"dataframe\">\n",
       "  <thead>\n",
       "    <tr style=\"text-align: right;\">\n",
       "      <th></th>\n",
       "      <th>Sex</th>\n",
       "      <th>Ticket</th>\n",
       "      <th>Embarked</th>\n",
       "    </tr>\n",
       "  </thead>\n",
       "  <tbody>\n",
       "    <tr>\n",
       "      <th>0</th>\n",
       "      <td>male</td>\n",
       "      <td>A/5 21171</td>\n",
       "      <td>S</td>\n",
       "    </tr>\n",
       "    <tr>\n",
       "      <th>1</th>\n",
       "      <td>female</td>\n",
       "      <td>PC 17599</td>\n",
       "      <td>C</td>\n",
       "    </tr>\n",
       "    <tr>\n",
       "      <th>2</th>\n",
       "      <td>female</td>\n",
       "      <td>STON/O2. 3101282</td>\n",
       "      <td>S</td>\n",
       "    </tr>\n",
       "    <tr>\n",
       "      <th>3</th>\n",
       "      <td>female</td>\n",
       "      <td>113803</td>\n",
       "      <td>S</td>\n",
       "    </tr>\n",
       "    <tr>\n",
       "      <th>4</th>\n",
       "      <td>male</td>\n",
       "      <td>373450</td>\n",
       "      <td>S</td>\n",
       "    </tr>\n",
       "  </tbody>\n",
       "</table>\n",
       "</div>"
      ],
      "text/plain": [
       "      Sex            Ticket Embarked\n",
       "0    male         A/5 21171        S\n",
       "1  female          PC 17599        C\n",
       "2  female  STON/O2. 3101282        S\n",
       "3  female            113803        S\n",
       "4    male            373450        S"
      ]
     },
     "execution_count": 17,
     "metadata": {},
     "output_type": "execute_result"
    }
   ],
   "source": [
    "train_cat = train[object_cols]\n",
    "train_cat.head()"
   ]
  },
  {
   "cell_type": "code",
   "execution_count": 18,
   "id": "f82fe349",
   "metadata": {
    "execution": {
     "iopub.execute_input": "2023-11-14T15:47:39.280851Z",
     "iopub.status.busy": "2023-11-14T15:47:39.278927Z",
     "iopub.status.idle": "2023-11-14T15:47:39.288887Z",
     "shell.execute_reply": "2023-11-14T15:47:39.288011Z"
    },
    "papermill": {
     "duration": 0.027473,
     "end_time": "2023-11-14T15:47:39.290989",
     "exception": false,
     "start_time": "2023-11-14T15:47:39.263516",
     "status": "completed"
    },
    "tags": []
   },
   "outputs": [
    {
     "data": {
      "text/plain": [
       "Ticket\n",
       "347082      7\n",
       "CA. 2343    7\n",
       "1601        7\n",
       "3101295     6\n",
       "CA 2144     6\n",
       "           ..\n",
       "9234        1\n",
       "19988       1\n",
       "2693        1\n",
       "PC 17612    1\n",
       "370376      1\n",
       "Name: count, Length: 681, dtype: int64"
      ]
     },
     "execution_count": 18,
     "metadata": {},
     "output_type": "execute_result"
    }
   ],
   "source": [
    "train_cat.Ticket.value_counts()"
   ]
  },
  {
   "cell_type": "markdown",
   "id": "fb9793fb",
   "metadata": {
    "papermill": {
     "duration": 0.013707,
     "end_time": "2023-11-14T15:47:39.318525",
     "exception": false,
     "start_time": "2023-11-14T15:47:39.304818",
     "status": "completed"
    },
    "tags": []
   },
   "source": [
    "Descartamos Ticket, y consevamos Sex y Embarked."
   ]
  },
  {
   "cell_type": "code",
   "execution_count": 19,
   "id": "6b6b5d3d",
   "metadata": {
    "execution": {
     "iopub.execute_input": "2023-11-14T15:47:39.348925Z",
     "iopub.status.busy": "2023-11-14T15:47:39.347967Z",
     "iopub.status.idle": "2023-11-14T15:47:39.354160Z",
     "shell.execute_reply": "2023-11-14T15:47:39.353300Z"
    },
    "papermill": {
     "duration": 0.023744,
     "end_time": "2023-11-14T15:47:39.356012",
     "exception": false,
     "start_time": "2023-11-14T15:47:39.332268",
     "status": "completed"
    },
    "tags": []
   },
   "outputs": [
    {
     "name": "stderr",
     "output_type": "stream",
     "text": [
      "/tmp/ipykernel_20/1580851236.py:1: SettingWithCopyWarning: \n",
      "A value is trying to be set on a copy of a slice from a DataFrame\n",
      "\n",
      "See the caveats in the documentation: https://pandas.pydata.org/pandas-docs/stable/user_guide/indexing.html#returning-a-view-versus-a-copy\n",
      "  train_cat.drop(['Ticket'], axis=1, inplace=True)\n"
     ]
    }
   ],
   "source": [
    "train_cat.drop(['Ticket'], axis=1, inplace=True)"
   ]
  },
  {
   "cell_type": "code",
   "execution_count": 20,
   "id": "23b949d6",
   "metadata": {
    "execution": {
     "iopub.execute_input": "2023-11-14T15:47:39.385649Z",
     "iopub.status.busy": "2023-11-14T15:47:39.385232Z",
     "iopub.status.idle": "2023-11-14T15:47:39.393120Z",
     "shell.execute_reply": "2023-11-14T15:47:39.392054Z"
    },
    "papermill": {
     "duration": 0.0256,
     "end_time": "2023-11-14T15:47:39.395300",
     "exception": false,
     "start_time": "2023-11-14T15:47:39.369700",
     "status": "completed"
    },
    "tags": []
   },
   "outputs": [
    {
     "name": "stdout",
     "output_type": "stream",
     "text": [
      "Sex\n",
      "male      577\n",
      "female    314\n",
      "Name: count, dtype: int64\n",
      "--------------------------------------------------\n",
      "Embarked\n",
      "S    644\n",
      "C    168\n",
      "Q     77\n",
      "Name: count, dtype: int64\n"
     ]
    }
   ],
   "source": [
    "print(train_cat.Sex.value_counts())\n",
    "print('-'*50)\n",
    "print(train_cat.Embarked.value_counts())"
   ]
  },
  {
   "cell_type": "markdown",
   "id": "3c2428ad",
   "metadata": {
    "papermill": {
     "duration": 0.014823,
     "end_time": "2023-11-14T15:47:39.424002",
     "exception": false,
     "start_time": "2023-11-14T15:47:39.409179",
     "status": "completed"
    },
    "tags": []
   },
   "source": [
    "Realizamos los cambios a las variables categoricas para que el modelo pueda leerlos.\n"
   ]
  },
  {
   "cell_type": "code",
   "execution_count": 21,
   "id": "cbdadcc1",
   "metadata": {
    "execution": {
     "iopub.execute_input": "2023-11-14T15:47:39.454572Z",
     "iopub.status.busy": "2023-11-14T15:47:39.453836Z",
     "iopub.status.idle": "2023-11-14T15:47:39.459868Z",
     "shell.execute_reply": "2023-11-14T15:47:39.459047Z"
    },
    "papermill": {
     "duration": 0.023802,
     "end_time": "2023-11-14T15:47:39.462049",
     "exception": false,
     "start_time": "2023-11-14T15:47:39.438247",
     "status": "completed"
    },
    "tags": []
   },
   "outputs": [
    {
     "data": {
      "text/plain": [
       "Index(['PassengerId', 'Survived', 'Pclass', 'Sex', 'Age', 'SibSp', 'Parch',\n",
       "       'Ticket', 'Fare', 'Cabin', 'Embarked'],\n",
       "      dtype='object')"
      ]
     },
     "execution_count": 21,
     "metadata": {},
     "output_type": "execute_result"
    }
   ],
   "source": [
    "train.columns"
   ]
  },
  {
   "cell_type": "code",
   "execution_count": 22,
   "id": "cdfa355f",
   "metadata": {
    "execution": {
     "iopub.execute_input": "2023-11-14T15:47:39.493526Z",
     "iopub.status.busy": "2023-11-14T15:47:39.492857Z",
     "iopub.status.idle": "2023-11-14T15:47:39.673200Z",
     "shell.execute_reply": "2023-11-14T15:47:39.671724Z"
    },
    "papermill": {
     "duration": 0.199395,
     "end_time": "2023-11-14T15:47:39.676126",
     "exception": false,
     "start_time": "2023-11-14T15:47:39.476731",
     "status": "completed"
    },
    "tags": []
   },
   "outputs": [],
   "source": [
    "from sklearn.preprocessing import OrdinalEncoder\n",
    "from sklearn.preprocessing import OneHotEncoder\n",
    "\n",
    "from sklearn.base import BaseEstimator, TransformerMixin\n",
    "\n",
    "class EliminarColumnas(BaseEstimator, TransformerMixin):\n",
    "    def fit(self, X, y=None):\n",
    "        return self\n",
    "    \n",
    "    def transform(self, X):\n",
    "        X = X[['Pclass','Sex','Fare','Embarked', 'SibSp', 'Parch']]\n",
    "        return X\n",
    "    \n",
    "class ImputarFaltantes(BaseEstimator, TransformerMixin):\n",
    "    def fit(self, X, y=None):\n",
    "        return self\n",
    "    \n",
    "    def transform(self, X):\n",
    "        X['Embarked'] = X['Embarked'].ffill()\n",
    "        X['Fare'] = X['Fare'].ffill()\n",
    "        return X\n",
    "    \n",
    "class TransformarCategorias(BaseEstimator, TransformerMixin):\n",
    "    def fit(self, X, y=None):\n",
    "        return self\n",
    "    \n",
    "    def transform(self, X):\n",
    "        sex_dct = {'female': 1, 'male': 0}\n",
    "        X['Sex'] = [sex_dct[g] for g in X['Sex']]\n",
    "        \n",
    "        encoder = OneHotEncoder()\n",
    "\n",
    "        matrix = encoder.fit_transform(X[['Embarked']]).toarray()\n",
    "        job_columns = ['S','C','Q']\n",
    "        for i in range(len(matrix.T)):\n",
    "            X[job_columns[i]] = matrix.T[i]\n",
    "        \n",
    "        X.drop(['Embarked'], axis=1, inplace=True)\n",
    "        return X"
   ]
  },
  {
   "cell_type": "code",
   "execution_count": 23,
   "id": "63bb0351",
   "metadata": {
    "execution": {
     "iopub.execute_input": "2023-11-14T15:47:39.707659Z",
     "iopub.status.busy": "2023-11-14T15:47:39.706961Z",
     "iopub.status.idle": "2023-11-14T15:47:39.714901Z",
     "shell.execute_reply": "2023-11-14T15:47:39.713782Z"
    },
    "papermill": {
     "duration": 0.026531,
     "end_time": "2023-11-14T15:47:39.717320",
     "exception": false,
     "start_time": "2023-11-14T15:47:39.690789",
     "status": "completed"
    },
    "tags": []
   },
   "outputs": [],
   "source": [
    "from sklearn.pipeline import Pipeline\n",
    "\n",
    "pipe = Pipeline([\n",
    "    ('eliminar_columnas', EliminarColumnas()),\n",
    "    ('imputar_faltantes', ImputarFaltantes()),\n",
    "    ('transformar_categorias', TransformarCategorias())\n",
    "])"
   ]
  },
  {
   "cell_type": "code",
   "execution_count": 24,
   "id": "8b0b4252",
   "metadata": {
    "execution": {
     "iopub.execute_input": "2023-11-14T15:47:39.747788Z",
     "iopub.status.busy": "2023-11-14T15:47:39.746860Z",
     "iopub.status.idle": "2023-11-14T15:47:39.769181Z",
     "shell.execute_reply": "2023-11-14T15:47:39.767535Z"
    },
    "papermill": {
     "duration": 0.040098,
     "end_time": "2023-11-14T15:47:39.771506",
     "exception": false,
     "start_time": "2023-11-14T15:47:39.731408",
     "status": "completed"
    },
    "tags": []
   },
   "outputs": [
    {
     "name": "stderr",
     "output_type": "stream",
     "text": [
      "/tmp/ipykernel_20/48911206.py:19: SettingWithCopyWarning: \n",
      "A value is trying to be set on a copy of a slice from a DataFrame.\n",
      "Try using .loc[row_indexer,col_indexer] = value instead\n",
      "\n",
      "See the caveats in the documentation: https://pandas.pydata.org/pandas-docs/stable/user_guide/indexing.html#returning-a-view-versus-a-copy\n",
      "  X['Embarked'] = X['Embarked'].ffill()\n",
      "/tmp/ipykernel_20/48911206.py:20: SettingWithCopyWarning: \n",
      "A value is trying to be set on a copy of a slice from a DataFrame.\n",
      "Try using .loc[row_indexer,col_indexer] = value instead\n",
      "\n",
      "See the caveats in the documentation: https://pandas.pydata.org/pandas-docs/stable/user_guide/indexing.html#returning-a-view-versus-a-copy\n",
      "  X['Fare'] = X['Fare'].ffill()\n",
      "/tmp/ipykernel_20/48911206.py:29: SettingWithCopyWarning: \n",
      "A value is trying to be set on a copy of a slice from a DataFrame.\n",
      "Try using .loc[row_indexer,col_indexer] = value instead\n",
      "\n",
      "See the caveats in the documentation: https://pandas.pydata.org/pandas-docs/stable/user_guide/indexing.html#returning-a-view-versus-a-copy\n",
      "  X['Sex'] = [sex_dct[g] for g in X['Sex']]\n",
      "/tmp/ipykernel_20/48911206.py:36: SettingWithCopyWarning: \n",
      "A value is trying to be set on a copy of a slice from a DataFrame.\n",
      "Try using .loc[row_indexer,col_indexer] = value instead\n",
      "\n",
      "See the caveats in the documentation: https://pandas.pydata.org/pandas-docs/stable/user_guide/indexing.html#returning-a-view-versus-a-copy\n",
      "  X[job_columns[i]] = matrix.T[i]\n",
      "/tmp/ipykernel_20/48911206.py:36: SettingWithCopyWarning: \n",
      "A value is trying to be set on a copy of a slice from a DataFrame.\n",
      "Try using .loc[row_indexer,col_indexer] = value instead\n",
      "\n",
      "See the caveats in the documentation: https://pandas.pydata.org/pandas-docs/stable/user_guide/indexing.html#returning-a-view-versus-a-copy\n",
      "  X[job_columns[i]] = matrix.T[i]\n",
      "/tmp/ipykernel_20/48911206.py:36: SettingWithCopyWarning: \n",
      "A value is trying to be set on a copy of a slice from a DataFrame.\n",
      "Try using .loc[row_indexer,col_indexer] = value instead\n",
      "\n",
      "See the caveats in the documentation: https://pandas.pydata.org/pandas-docs/stable/user_guide/indexing.html#returning-a-view-versus-a-copy\n",
      "  X[job_columns[i]] = matrix.T[i]\n",
      "/tmp/ipykernel_20/48911206.py:38: SettingWithCopyWarning: \n",
      "A value is trying to be set on a copy of a slice from a DataFrame\n",
      "\n",
      "See the caveats in the documentation: https://pandas.pydata.org/pandas-docs/stable/user_guide/indexing.html#returning-a-view-versus-a-copy\n",
      "  X.drop(['Embarked'], axis=1, inplace=True)\n"
     ]
    }
   ],
   "source": [
    "train_fin = pipe.fit_transform(train)\n"
   ]
  },
  {
   "cell_type": "code",
   "execution_count": 25,
   "id": "d2a807b3",
   "metadata": {
    "execution": {
     "iopub.execute_input": "2023-11-14T15:47:39.802993Z",
     "iopub.status.busy": "2023-11-14T15:47:39.801957Z",
     "iopub.status.idle": "2023-11-14T15:47:39.807496Z",
     "shell.execute_reply": "2023-11-14T15:47:39.806696Z"
    },
    "papermill": {
     "duration": 0.02342,
     "end_time": "2023-11-14T15:47:39.809549",
     "exception": false,
     "start_time": "2023-11-14T15:47:39.786129",
     "status": "completed"
    },
    "tags": []
   },
   "outputs": [],
   "source": [
    "X_train = train_fin.copy()\n",
    "y_train = train['Survived']"
   ]
  },
  {
   "cell_type": "code",
   "execution_count": 26,
   "id": "a100df83",
   "metadata": {
    "execution": {
     "iopub.execute_input": "2023-11-14T15:47:39.840200Z",
     "iopub.status.busy": "2023-11-14T15:47:39.839621Z",
     "iopub.status.idle": "2023-11-14T15:47:40.406500Z",
     "shell.execute_reply": "2023-11-14T15:47:40.405484Z"
    },
    "papermill": {
     "duration": 0.585297,
     "end_time": "2023-11-14T15:47:40.409186",
     "exception": false,
     "start_time": "2023-11-14T15:47:39.823889",
     "status": "completed"
    },
    "tags": []
   },
   "outputs": [],
   "source": [
    "from sklearn.tree import DecisionTreeClassifier\n",
    "from sklearn.model_selection import train_test_split, KFold, cross_val_score, GridSearchCV\n",
    "from sklearn.ensemble import RandomForestClassifier, AdaBoostClassifier, BaggingClassifier, ExtraTreesClassifier\n",
    "from sklearn.linear_model import LogisticRegression\n",
    "from sklearn.svm import SVC\n",
    "from sklearn.neighbors import KNeighborsClassifier\n",
    "from xgboost import XGBClassifier, plot_importance"
   ]
  },
  {
   "cell_type": "code",
   "execution_count": 27,
   "id": "ca313c1f",
   "metadata": {
    "execution": {
     "iopub.execute_input": "2023-11-14T15:47:40.442486Z",
     "iopub.status.busy": "2023-11-14T15:47:40.441584Z",
     "iopub.status.idle": "2023-11-14T15:47:40.446760Z",
     "shell.execute_reply": "2023-11-14T15:47:40.445944Z"
    },
    "papermill": {
     "duration": 0.024901,
     "end_time": "2023-11-14T15:47:40.448903",
     "exception": false,
     "start_time": "2023-11-14T15:47:40.424002",
     "status": "completed"
    },
    "tags": []
   },
   "outputs": [],
   "source": [
    "clf_rf = RandomForestClassifier()\n",
    "clf_et = ExtraTreesClassifier()\n",
    "clf_bc = BaggingClassifier()\n",
    "clf_ada = AdaBoostClassifier()\n",
    "clf_dt = DecisionTreeClassifier()\n",
    "clf_xg = XGBClassifier()\n",
    "clf_lr = LogisticRegression()\n",
    "clf_svm = SVC()"
   ]
  },
  {
   "cell_type": "code",
   "execution_count": 28,
   "id": "29d7c186",
   "metadata": {
    "execution": {
     "iopub.execute_input": "2023-11-14T15:47:40.480434Z",
     "iopub.status.busy": "2023-11-14T15:47:40.479828Z",
     "iopub.status.idle": "2023-11-14T15:47:45.495490Z",
     "shell.execute_reply": "2023-11-14T15:47:45.494326Z"
    },
    "papermill": {
     "duration": 5.034926,
     "end_time": "2023-11-14T15:47:45.498213",
     "exception": false,
     "start_time": "2023-11-14T15:47:40.463287",
     "status": "completed"
    },
    "tags": []
   },
   "outputs": [
    {
     "name": "stderr",
     "output_type": "stream",
     "text": [
      "/opt/conda/lib/python3.10/site-packages/sklearn/linear_model/_logistic.py:458: ConvergenceWarning: lbfgs failed to converge (status=1):\n",
      "STOP: TOTAL NO. of ITERATIONS REACHED LIMIT.\n",
      "\n",
      "Increase the number of iterations (max_iter) or scale the data as shown in:\n",
      "    https://scikit-learn.org/stable/modules/preprocessing.html\n",
      "Please also refer to the documentation for alternative solver options:\n",
      "    https://scikit-learn.org/stable/modules/linear_model.html#logistic-regression\n",
      "  n_iter_i = _check_optimize_result(\n",
      "/opt/conda/lib/python3.10/site-packages/sklearn/linear_model/_logistic.py:458: ConvergenceWarning: lbfgs failed to converge (status=1):\n",
      "STOP: TOTAL NO. of ITERATIONS REACHED LIMIT.\n",
      "\n",
      "Increase the number of iterations (max_iter) or scale the data as shown in:\n",
      "    https://scikit-learn.org/stable/modules/preprocessing.html\n",
      "Please also refer to the documentation for alternative solver options:\n",
      "    https://scikit-learn.org/stable/modules/linear_model.html#logistic-regression\n",
      "  n_iter_i = _check_optimize_result(\n",
      "/opt/conda/lib/python3.10/site-packages/sklearn/linear_model/_logistic.py:458: ConvergenceWarning: lbfgs failed to converge (status=1):\n",
      "STOP: TOTAL NO. of ITERATIONS REACHED LIMIT.\n",
      "\n",
      "Increase the number of iterations (max_iter) or scale the data as shown in:\n",
      "    https://scikit-learn.org/stable/modules/preprocessing.html\n",
      "Please also refer to the documentation for alternative solver options:\n",
      "    https://scikit-learn.org/stable/modules/linear_model.html#logistic-regression\n",
      "  n_iter_i = _check_optimize_result(\n",
      "/opt/conda/lib/python3.10/site-packages/sklearn/linear_model/_logistic.py:458: ConvergenceWarning: lbfgs failed to converge (status=1):\n",
      "STOP: TOTAL NO. of ITERATIONS REACHED LIMIT.\n",
      "\n",
      "Increase the number of iterations (max_iter) or scale the data as shown in:\n",
      "    https://scikit-learn.org/stable/modules/preprocessing.html\n",
      "Please also refer to the documentation for alternative solver options:\n",
      "    https://scikit-learn.org/stable/modules/linear_model.html#logistic-regression\n",
      "  n_iter_i = _check_optimize_result(\n",
      "/opt/conda/lib/python3.10/site-packages/sklearn/linear_model/_logistic.py:458: ConvergenceWarning: lbfgs failed to converge (status=1):\n",
      "STOP: TOTAL NO. of ITERATIONS REACHED LIMIT.\n",
      "\n",
      "Increase the number of iterations (max_iter) or scale the data as shown in:\n",
      "    https://scikit-learn.org/stable/modules/preprocessing.html\n",
      "Please also refer to the documentation for alternative solver options:\n",
      "    https://scikit-learn.org/stable/modules/linear_model.html#logistic-regression\n",
      "  n_iter_i = _check_optimize_result(\n",
      "/opt/conda/lib/python3.10/site-packages/sklearn/linear_model/_logistic.py:458: ConvergenceWarning: lbfgs failed to converge (status=1):\n",
      "STOP: TOTAL NO. of ITERATIONS REACHED LIMIT.\n",
      "\n",
      "Increase the number of iterations (max_iter) or scale the data as shown in:\n",
      "    https://scikit-learn.org/stable/modules/preprocessing.html\n",
      "Please also refer to the documentation for alternative solver options:\n",
      "    https://scikit-learn.org/stable/modules/linear_model.html#logistic-regression\n",
      "  n_iter_i = _check_optimize_result(\n",
      "/opt/conda/lib/python3.10/site-packages/sklearn/linear_model/_logistic.py:458: ConvergenceWarning: lbfgs failed to converge (status=1):\n",
      "STOP: TOTAL NO. of ITERATIONS REACHED LIMIT.\n",
      "\n",
      "Increase the number of iterations (max_iter) or scale the data as shown in:\n",
      "    https://scikit-learn.org/stable/modules/preprocessing.html\n",
      "Please also refer to the documentation for alternative solver options:\n",
      "    https://scikit-learn.org/stable/modules/linear_model.html#logistic-regression\n",
      "  n_iter_i = _check_optimize_result(\n",
      "/opt/conda/lib/python3.10/site-packages/sklearn/linear_model/_logistic.py:458: ConvergenceWarning: lbfgs failed to converge (status=1):\n",
      "STOP: TOTAL NO. of ITERATIONS REACHED LIMIT.\n",
      "\n",
      "Increase the number of iterations (max_iter) or scale the data as shown in:\n",
      "    https://scikit-learn.org/stable/modules/preprocessing.html\n",
      "Please also refer to the documentation for alternative solver options:\n",
      "    https://scikit-learn.org/stable/modules/linear_model.html#logistic-regression\n",
      "  n_iter_i = _check_optimize_result(\n",
      "/opt/conda/lib/python3.10/site-packages/sklearn/linear_model/_logistic.py:458: ConvergenceWarning: lbfgs failed to converge (status=1):\n",
      "STOP: TOTAL NO. of ITERATIONS REACHED LIMIT.\n",
      "\n",
      "Increase the number of iterations (max_iter) or scale the data as shown in:\n",
      "    https://scikit-learn.org/stable/modules/preprocessing.html\n",
      "Please also refer to the documentation for alternative solver options:\n",
      "    https://scikit-learn.org/stable/modules/linear_model.html#logistic-regression\n",
      "  n_iter_i = _check_optimize_result(\n",
      "/opt/conda/lib/python3.10/site-packages/sklearn/linear_model/_logistic.py:458: ConvergenceWarning: lbfgs failed to converge (status=1):\n",
      "STOP: TOTAL NO. of ITERATIONS REACHED LIMIT.\n",
      "\n",
      "Increase the number of iterations (max_iter) or scale the data as shown in:\n",
      "    https://scikit-learn.org/stable/modules/preprocessing.html\n",
      "Please also refer to the documentation for alternative solver options:\n",
      "    https://scikit-learn.org/stable/modules/linear_model.html#logistic-regression\n",
      "  n_iter_i = _check_optimize_result(\n"
     ]
    }
   ],
   "source": [
    "# Creamos array con los nombres de los models\n",
    "clasificadores = ['RandomForest','ExtraTrees','Bagging','AdaBoost','DecisionTree','XGBoost','LogisticRegression','SVM']\n",
    "\n",
    "# una lista vacia para el puntaje\n",
    "scores = []\n",
    "\n",
    "# y una lista con los modelos para sacar el puntaje\n",
    "models = [clf_rf, clf_et, clf_bc, clf_ada, clf_dt, clf_xg, clf_lr, clf_svm]\n",
    "# iteramos sobre los modelos y agregamos dentro de score el puntaje\n",
    "for model in models:\n",
    "    score = cross_val_score(model, X_train, y_train, scoring = 'accuracy', cv = 10, n_jobs = -1).mean()\n",
    "    scores.append(score)"
   ]
  },
  {
   "cell_type": "code",
   "execution_count": 29,
   "id": "39b31810",
   "metadata": {
    "execution": {
     "iopub.execute_input": "2023-11-14T15:47:45.529780Z",
     "iopub.status.busy": "2023-11-14T15:47:45.529029Z",
     "iopub.status.idle": "2023-11-14T15:47:45.540693Z",
     "shell.execute_reply": "2023-11-14T15:47:45.539945Z"
    },
    "papermill": {
     "duration": 0.029523,
     "end_time": "2023-11-14T15:47:45.542526",
     "exception": false,
     "start_time": "2023-11-14T15:47:45.513003",
     "status": "completed"
    },
    "tags": []
   },
   "outputs": [
    {
     "data": {
      "text/html": [
       "<div>\n",
       "<style scoped>\n",
       "    .dataframe tbody tr th:only-of-type {\n",
       "        vertical-align: middle;\n",
       "    }\n",
       "\n",
       "    .dataframe tbody tr th {\n",
       "        vertical-align: top;\n",
       "    }\n",
       "\n",
       "    .dataframe thead th {\n",
       "        text-align: right;\n",
       "    }\n",
       "</style>\n",
       "<table border=\"1\" class=\"dataframe\">\n",
       "  <thead>\n",
       "    <tr style=\"text-align: right;\">\n",
       "      <th></th>\n",
       "      <th>score</th>\n",
       "    </tr>\n",
       "  </thead>\n",
       "  <tbody>\n",
       "    <tr>\n",
       "      <th>Bagging</th>\n",
       "      <td>0.807004</td>\n",
       "    </tr>\n",
       "    <tr>\n",
       "      <th>DecisionTree</th>\n",
       "      <td>0.802534</td>\n",
       "    </tr>\n",
       "    <tr>\n",
       "      <th>XGBoost</th>\n",
       "      <td>0.800250</td>\n",
       "    </tr>\n",
       "    <tr>\n",
       "      <th>ExtraTrees</th>\n",
       "      <td>0.800250</td>\n",
       "    </tr>\n",
       "    <tr>\n",
       "      <th>AdaBoost</th>\n",
       "      <td>0.794644</td>\n",
       "    </tr>\n",
       "    <tr>\n",
       "      <th>RandomForest</th>\n",
       "      <td>0.792409</td>\n",
       "    </tr>\n",
       "    <tr>\n",
       "      <th>LogisticRegression</th>\n",
       "      <td>0.784519</td>\n",
       "    </tr>\n",
       "    <tr>\n",
       "      <th>SVM</th>\n",
       "      <td>0.670112</td>\n",
       "    </tr>\n",
       "  </tbody>\n",
       "</table>\n",
       "</div>"
      ],
      "text/plain": [
       "                       score\n",
       "Bagging             0.807004\n",
       "DecisionTree        0.802534\n",
       "XGBoost             0.800250\n",
       "ExtraTrees          0.800250\n",
       "AdaBoost            0.794644\n",
       "RandomForest        0.792409\n",
       "LogisticRegression  0.784519\n",
       "SVM                 0.670112"
      ]
     },
     "execution_count": 29,
     "metadata": {},
     "output_type": "execute_result"
    }
   ],
   "source": [
    "# creamos una tabla con los puntajes.\n",
    "puntajes = pd.DataFrame(scores, index = clasificadores, columns = ['score']).sort_values(by = 'score',\n",
    "             ascending = False)\n",
    "puntajes"
   ]
  },
  {
   "cell_type": "code",
   "execution_count": 30,
   "id": "a47e2b85",
   "metadata": {
    "execution": {
     "iopub.execute_input": "2023-11-14T15:47:45.573782Z",
     "iopub.status.busy": "2023-11-14T15:47:45.572931Z",
     "iopub.status.idle": "2023-11-14T15:47:45.578151Z",
     "shell.execute_reply": "2023-11-14T15:47:45.577430Z"
    },
    "papermill": {
     "duration": 0.023362,
     "end_time": "2023-11-14T15:47:45.580285",
     "exception": false,
     "start_time": "2023-11-14T15:47:45.556923",
     "status": "completed"
    },
    "tags": []
   },
   "outputs": [],
   "source": [
    "# creamos una funcion grilla que entrena los datos de nuestro set de\n",
    "# entrenamiento y devuelve el mejor puntaje y los mejores parametros\n",
    "def grid(model,parameters):\n",
    "    grid = GridSearchCV(estimator = model, param_grid = parameters, cv = 10,\n",
    "                        scoring = 'accuracy')\n",
    "    grid.fit(X_train, y_train)\n",
    "    return grid.best_score_, grid.best_estimator_.get_params()"
   ]
  },
  {
   "cell_type": "code",
   "execution_count": 31,
   "id": "944ce44d",
   "metadata": {
    "execution": {
     "iopub.execute_input": "2023-11-14T15:47:45.610959Z",
     "iopub.status.busy": "2023-11-14T15:47:45.610531Z",
     "iopub.status.idle": "2023-11-14T15:47:45.616837Z",
     "shell.execute_reply": "2023-11-14T15:47:45.615804Z"
    },
    "papermill": {
     "duration": 0.024328,
     "end_time": "2023-11-14T15:47:45.619102",
     "exception": false,
     "start_time": "2023-11-14T15:47:45.594774",
     "status": "completed"
    },
    "tags": []
   },
   "outputs": [],
   "source": [
    "# Creamos la grilla de parametros para cada modelo seleccionado\n",
    "\n",
    "parametros_bc = {\n",
    "    'n_estimators': [10, 50, 100, 150],\n",
    "    'max_samples': [0.5, 0.7, 0.9, 1.0],\n",
    "    'max_features': [0.5, 0.7, 0.9, 1.0]\n",
    "}\n",
    "parametros_dt = {\n",
    "    'max_depth': [None, 5, 10, 15],\n",
    "    'min_samples_split': [2, 5, 10],\n",
    "    'min_samples_leaf': [1, 2, 4]\n",
    "}\n",
    "parametros_et = {\n",
    "    'max_depth': [None, 5, 10, 15],\n",
    "    'min_samples_split': [2, 5, 10],\n",
    "    'min_samples_leaf': [1, 2, 4]\n",
    "}"
   ]
  },
  {
   "cell_type": "code",
   "execution_count": 32,
   "id": "1fd4e4eb",
   "metadata": {
    "execution": {
     "iopub.execute_input": "2023-11-14T15:47:45.650009Z",
     "iopub.status.busy": "2023-11-14T15:47:45.649635Z",
     "iopub.status.idle": "2023-11-14T15:49:47.032335Z",
     "shell.execute_reply": "2023-11-14T15:49:47.031151Z"
    },
    "papermill": {
     "duration": 121.414852,
     "end_time": "2023-11-14T15:49:47.048532",
     "exception": false,
     "start_time": "2023-11-14T15:47:45.633680",
     "status": "completed"
    },
    "tags": []
   },
   "outputs": [
    {
     "name": "stdout",
     "output_type": "stream",
     "text": [
      "0.8159925093632958\n"
     ]
    }
   ],
   "source": [
    "best_score_bc, best_params_bc = grid(clf_bc,parametros_bc)\n",
    "print(best_score_bc)\n"
   ]
  },
  {
   "cell_type": "code",
   "execution_count": 33,
   "id": "025e782c",
   "metadata": {
    "execution": {
     "iopub.execute_input": "2023-11-14T15:49:47.079252Z",
     "iopub.status.busy": "2023-11-14T15:49:47.078889Z",
     "iopub.status.idle": "2023-11-14T15:49:49.150160Z",
     "shell.execute_reply": "2023-11-14T15:49:49.148646Z"
    },
    "papermill": {
     "duration": 2.089684,
     "end_time": "2023-11-14T15:49:49.152614",
     "exception": false,
     "start_time": "2023-11-14T15:49:47.062930",
     "status": "completed"
    },
    "tags": []
   },
   "outputs": [
    {
     "name": "stdout",
     "output_type": "stream",
     "text": [
      "0.8081148564294631\n"
     ]
    }
   ],
   "source": [
    "best_score_dt, best_params_dt = grid(clf_dt,parametros_dt)\n",
    "print(best_score_dt)"
   ]
  },
  {
   "cell_type": "code",
   "execution_count": 34,
   "id": "91b1078b",
   "metadata": {
    "execution": {
     "iopub.execute_input": "2023-11-14T15:49:49.184493Z",
     "iopub.status.busy": "2023-11-14T15:49:49.184074Z",
     "iopub.status.idle": "2023-11-14T15:50:42.276989Z",
     "shell.execute_reply": "2023-11-14T15:50:42.275890Z"
    },
    "papermill": {
     "duration": 53.125424,
     "end_time": "2023-11-14T15:50:42.293142",
     "exception": false,
     "start_time": "2023-11-14T15:49:49.167718",
     "status": "completed"
    },
    "tags": []
   },
   "outputs": [
    {
     "name": "stdout",
     "output_type": "stream",
     "text": [
      "0.8170786516853932\n"
     ]
    },
    {
     "data": {
      "text/plain": [
       "{'bootstrap': False,\n",
       " 'ccp_alpha': 0.0,\n",
       " 'class_weight': None,\n",
       " 'criterion': 'gini',\n",
       " 'max_depth': 10,\n",
       " 'max_features': 'sqrt',\n",
       " 'max_leaf_nodes': None,\n",
       " 'max_samples': None,\n",
       " 'min_impurity_decrease': 0.0,\n",
       " 'min_samples_leaf': 1,\n",
       " 'min_samples_split': 5,\n",
       " 'min_weight_fraction_leaf': 0.0,\n",
       " 'n_estimators': 100,\n",
       " 'n_jobs': None,\n",
       " 'oob_score': False,\n",
       " 'random_state': None,\n",
       " 'verbose': 0,\n",
       " 'warm_start': False}"
      ]
     },
     "execution_count": 34,
     "metadata": {},
     "output_type": "execute_result"
    }
   ],
   "source": [
    "best_score_et, best_params_et = grid(clf_et, parametros_et)\n",
    "print(best_score_et)\n",
    "best_params_et"
   ]
  },
  {
   "cell_type": "code",
   "execution_count": 35,
   "id": "59d28a55",
   "metadata": {
    "execution": {
     "iopub.execute_input": "2023-11-14T15:50:42.324736Z",
     "iopub.status.busy": "2023-11-14T15:50:42.324313Z",
     "iopub.status.idle": "2023-11-14T15:50:42.329179Z",
     "shell.execute_reply": "2023-11-14T15:50:42.328099Z"
    },
    "papermill": {
     "duration": 0.023387,
     "end_time": "2023-11-14T15:50:42.331416",
     "exception": false,
     "start_time": "2023-11-14T15:50:42.308029",
     "status": "completed"
    },
    "tags": []
   },
   "outputs": [],
   "source": [
    "modelo_final = ExtraTreesClassifier(max_depth=15, min_samples_split=2, min_samples_leaf=2)"
   ]
  },
  {
   "cell_type": "code",
   "execution_count": 36,
   "id": "fca04599",
   "metadata": {
    "execution": {
     "iopub.execute_input": "2023-11-14T15:50:42.363143Z",
     "iopub.status.busy": "2023-11-14T15:50:42.362724Z",
     "iopub.status.idle": "2023-11-14T15:50:42.377322Z",
     "shell.execute_reply": "2023-11-14T15:50:42.376083Z"
    },
    "papermill": {
     "duration": 0.034178,
     "end_time": "2023-11-14T15:50:42.380459",
     "exception": false,
     "start_time": "2023-11-14T15:50:42.346281",
     "status": "completed"
    },
    "tags": []
   },
   "outputs": [
    {
     "name": "stderr",
     "output_type": "stream",
     "text": [
      "/tmp/ipykernel_20/48911206.py:19: SettingWithCopyWarning: \n",
      "A value is trying to be set on a copy of a slice from a DataFrame.\n",
      "Try using .loc[row_indexer,col_indexer] = value instead\n",
      "\n",
      "See the caveats in the documentation: https://pandas.pydata.org/pandas-docs/stable/user_guide/indexing.html#returning-a-view-versus-a-copy\n",
      "  X['Embarked'] = X['Embarked'].ffill()\n",
      "/tmp/ipykernel_20/48911206.py:20: SettingWithCopyWarning: \n",
      "A value is trying to be set on a copy of a slice from a DataFrame.\n",
      "Try using .loc[row_indexer,col_indexer] = value instead\n",
      "\n",
      "See the caveats in the documentation: https://pandas.pydata.org/pandas-docs/stable/user_guide/indexing.html#returning-a-view-versus-a-copy\n",
      "  X['Fare'] = X['Fare'].ffill()\n",
      "/tmp/ipykernel_20/48911206.py:29: SettingWithCopyWarning: \n",
      "A value is trying to be set on a copy of a slice from a DataFrame.\n",
      "Try using .loc[row_indexer,col_indexer] = value instead\n",
      "\n",
      "See the caveats in the documentation: https://pandas.pydata.org/pandas-docs/stable/user_guide/indexing.html#returning-a-view-versus-a-copy\n",
      "  X['Sex'] = [sex_dct[g] for g in X['Sex']]\n",
      "/tmp/ipykernel_20/48911206.py:36: SettingWithCopyWarning: \n",
      "A value is trying to be set on a copy of a slice from a DataFrame.\n",
      "Try using .loc[row_indexer,col_indexer] = value instead\n",
      "\n",
      "See the caveats in the documentation: https://pandas.pydata.org/pandas-docs/stable/user_guide/indexing.html#returning-a-view-versus-a-copy\n",
      "  X[job_columns[i]] = matrix.T[i]\n",
      "/tmp/ipykernel_20/48911206.py:36: SettingWithCopyWarning: \n",
      "A value is trying to be set on a copy of a slice from a DataFrame.\n",
      "Try using .loc[row_indexer,col_indexer] = value instead\n",
      "\n",
      "See the caveats in the documentation: https://pandas.pydata.org/pandas-docs/stable/user_guide/indexing.html#returning-a-view-versus-a-copy\n",
      "  X[job_columns[i]] = matrix.T[i]\n",
      "/tmp/ipykernel_20/48911206.py:36: SettingWithCopyWarning: \n",
      "A value is trying to be set on a copy of a slice from a DataFrame.\n",
      "Try using .loc[row_indexer,col_indexer] = value instead\n",
      "\n",
      "See the caveats in the documentation: https://pandas.pydata.org/pandas-docs/stable/user_guide/indexing.html#returning-a-view-versus-a-copy\n",
      "  X[job_columns[i]] = matrix.T[i]\n",
      "/tmp/ipykernel_20/48911206.py:38: SettingWithCopyWarning: \n",
      "A value is trying to be set on a copy of a slice from a DataFrame\n",
      "\n",
      "See the caveats in the documentation: https://pandas.pydata.org/pandas-docs/stable/user_guide/indexing.html#returning-a-view-versus-a-copy\n",
      "  X.drop(['Embarked'], axis=1, inplace=True)\n"
     ]
    }
   ],
   "source": [
    "X_test = pipe.fit_transform(test)"
   ]
  },
  {
   "cell_type": "code",
   "execution_count": 37,
   "id": "cb505a21",
   "metadata": {
    "execution": {
     "iopub.execute_input": "2023-11-14T15:50:42.412582Z",
     "iopub.status.busy": "2023-11-14T15:50:42.412149Z",
     "iopub.status.idle": "2023-11-14T15:50:42.425666Z",
     "shell.execute_reply": "2023-11-14T15:50:42.424456Z"
    },
    "papermill": {
     "duration": 0.032393,
     "end_time": "2023-11-14T15:50:42.428088",
     "exception": false,
     "start_time": "2023-11-14T15:50:42.395695",
     "status": "completed"
    },
    "tags": []
   },
   "outputs": [
    {
     "name": "stdout",
     "output_type": "stream",
     "text": [
      "<class 'pandas.core.frame.DataFrame'>\n",
      "RangeIndex: 418 entries, 0 to 417\n",
      "Data columns (total 8 columns):\n",
      " #   Column  Non-Null Count  Dtype  \n",
      "---  ------  --------------  -----  \n",
      " 0   Pclass  418 non-null    int64  \n",
      " 1   Sex     418 non-null    int64  \n",
      " 2   Fare    418 non-null    float64\n",
      " 3   SibSp   418 non-null    int64  \n",
      " 4   Parch   418 non-null    int64  \n",
      " 5   S       418 non-null    float64\n",
      " 6   C       418 non-null    float64\n",
      " 7   Q       418 non-null    float64\n",
      "dtypes: float64(4), int64(4)\n",
      "memory usage: 26.2 KB\n"
     ]
    }
   ],
   "source": [
    "X_test.info()"
   ]
  },
  {
   "cell_type": "code",
   "execution_count": 38,
   "id": "9c6fcd8d",
   "metadata": {
    "execution": {
     "iopub.execute_input": "2023-11-14T15:50:42.460215Z",
     "iopub.status.busy": "2023-11-14T15:50:42.459783Z",
     "iopub.status.idle": "2023-11-14T15:50:42.624401Z",
     "shell.execute_reply": "2023-11-14T15:50:42.623492Z"
    },
    "papermill": {
     "duration": 0.183579,
     "end_time": "2023-11-14T15:50:42.626862",
     "exception": false,
     "start_time": "2023-11-14T15:50:42.443283",
     "status": "completed"
    },
    "tags": []
   },
   "outputs": [],
   "source": [
    "modelo_final.fit(X_train, y_train)\n",
    "predictions = modelo_final.predict(X_test)"
   ]
  },
  {
   "cell_type": "code",
   "execution_count": 39,
   "id": "f6a00c45",
   "metadata": {
    "execution": {
     "iopub.execute_input": "2023-11-14T15:50:42.659211Z",
     "iopub.status.busy": "2023-11-14T15:50:42.658830Z",
     "iopub.status.idle": "2023-11-14T15:50:42.670214Z",
     "shell.execute_reply": "2023-11-14T15:50:42.668723Z"
    },
    "papermill": {
     "duration": 0.030486,
     "end_time": "2023-11-14T15:50:42.672498",
     "exception": false,
     "start_time": "2023-11-14T15:50:42.642012",
     "status": "completed"
    },
    "tags": []
   },
   "outputs": [
    {
     "name": "stdout",
     "output_type": "stream",
     "text": [
      "Your submission was successfully saved!\n"
     ]
    }
   ],
   "source": [
    "output = pd.DataFrame({'PassengerId': test.PassengerId, 'Survived': predictions})\n",
    "output.to_csv('submission.csv', index=False)\n",
    "print(\"Your submission was successfully saved!\")"
   ]
  }
 ],
 "metadata": {
  "kaggle": {
   "accelerator": "none",
   "dataSources": [
    {
     "databundleVersionId": 26502,
     "sourceId": 3136,
     "sourceType": "competition"
    }
   ],
   "dockerImageVersionId": 30579,
   "isGpuEnabled": false,
   "isInternetEnabled": true,
   "language": "python",
   "sourceType": "notebook"
  },
  "kernelspec": {
   "display_name": "Python 3",
   "language": "python",
   "name": "python3"
  },
  "language_info": {
   "codemirror_mode": {
    "name": "ipython",
    "version": 3
   },
   "file_extension": ".py",
   "mimetype": "text/x-python",
   "name": "python",
   "nbconvert_exporter": "python",
   "pygments_lexer": "ipython3",
   "version": "3.10.12"
  },
  "papermill": {
   "default_parameters": {},
   "duration": 193.175185,
   "end_time": "2023-11-14T15:50:45.309083",
   "environment_variables": {},
   "exception": null,
   "input_path": "__notebook__.ipynb",
   "output_path": "__notebook__.ipynb",
   "parameters": {},
   "start_time": "2023-11-14T15:47:32.133898",
   "version": "2.4.0"
  }
 },
 "nbformat": 4,
 "nbformat_minor": 5
}
